{
  "cells": [
    {
      "cell_type": "markdown",
      "metadata": {
        "id": "1aE3ioksR3i3"
      },
      "source": [
        "##**Link: https://www.linkedin.com/in/cristian-nicolas-castro-vargas-117250247/**"
      ]
    },
    {
      "cell_type": "markdown",
      "metadata": {
        "id": "whQyFjkJR3i-"
      },
      "source": []
    }
  ],
  "metadata": {
    "language_info": {
      "name": "python"
    },
    "orig_nbformat": 4,
    "colab": {
      "provenance": []
    }
  },
  "nbformat": 4,
  "nbformat_minor": 0
}