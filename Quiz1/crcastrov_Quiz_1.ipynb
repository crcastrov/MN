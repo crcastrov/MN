{
  "nbformat": 4,
  "nbformat_minor": 0,
  "metadata": {
    "colab": {
      "provenance": [],
      "authorship_tag": "ABX9TyP/2fcijTBmnC8n805tOTv7"
    },
    "kernelspec": {
      "name": "python3",
      "display_name": "Python 3"
    },
    "language_info": {
      "name": "python"
    }
  },
  "cells": [
    {
      "cell_type": "code",
      "execution_count": null,
      "metadata": {
        "id": "Zu6P31UC7pvo"
      },
      "outputs": [],
      "source": [
        "!python --version\n",
        "import numpy as np\n",
        "\n",
        "print('NumPy', np.__version__)"
      ]
    },
    {
      "cell_type": "markdown",
      "source": [
        "**1. FuzzBizz** "
      ],
      "metadata": {
        "id": "yWw8yimJ9MBl"
      }
    },
    {
      "cell_type": "code",
      "source": [
        "#Do not change this function's name, parameters or output format. It will be used in automatic grading.\n",
        "def FizzBuzz(x):\n",
        "  if ((x % 3 == 0) & (x % 5!=0)):\n",
        "    answer =\"Fizz!\"\n",
        "  elif ((x % 5 == 0) & (x%3!=0)):\n",
        "    answer=\"Buzz!\"\n",
        "  elif ((x%5==0) & (x%3==0)):\n",
        "    answer=\"FizzBuzz!\"\n",
        "  else: \n",
        "    answer=\"...\"\n",
        "  return answer\n"
      ],
      "metadata": {
        "id": "vTHCLxef73Xt"
      },
      "execution_count": null,
      "outputs": []
    },
    {
      "cell_type": "code",
      "source": [
        "print(FizzBuzz(3))\n",
        "print(FizzBuzz(7))\n",
        "print(FizzBuzz(5))\n",
        "print(FizzBuzz(11))\n",
        "print(FizzBuzz(15))"
      ],
      "metadata": {
        "id": "YpQrHmos76rt"
      },
      "execution_count": null,
      "outputs": []
    },
    {
      "cell_type": "markdown",
      "source": [
        "**2. FizzBuzzList**"
      ],
      "metadata": {
        "id": "roku08sj9cgw"
      }
    },
    {
      "cell_type": "code",
      "source": [
        "#Do not change this function's name, parameters or output format. It will be used in automatic grading.\n",
        "def FizzBuzzList(n):\n",
        "    ans = []\n",
        "    for j in range(n):\n",
        "      ans.append(FizzBuzz(j+1))\n",
        "    return ans\n"
      ],
      "metadata": {
        "id": "K6FNrPUO78uN"
      },
      "execution_count": null,
      "outputs": []
    },
    {
      "cell_type": "code",
      "source": [
        "print(FizzBuzzList(5))\n",
        "print(FizzBuzzList(-30))"
      ],
      "metadata": {
        "id": "Rc1nD2IV7_4g"
      },
      "execution_count": null,
      "outputs": []
    },
    {
      "cell_type": "code",
      "source": [
        "import numpy as np\n",
        "\n",
        "X = np.array([1.2,3.2,4.3,5.6])\n",
        "print(X.mean())\n",
        "print(X.std())"
      ],
      "metadata": {
        "id": "whFkuFjW8DVN"
      },
      "execution_count": null,
      "outputs": []
    },
    {
      "cell_type": "markdown",
      "source": [
        "**3. Standarize**"
      ],
      "metadata": {
        "id": "xyj1E8XA9hWu"
      }
    },
    {
      "cell_type": "code",
      "source": [
        "#Do not change this function's name, parameters or output format. It will be used in automatic grading.\n",
        "\n",
        "import numpy as np\n",
        "\n",
        "def standarize(X):\n",
        "  X_standarized = ((X- X.mean())/X.std())\n",
        "  return X_standarized"
      ],
      "metadata": {
        "id": "kN4zKGjF8FPU"
      },
      "execution_count": null,
      "outputs": []
    },
    {
      "cell_type": "code",
      "source": [
        "import numpy as np\n",
        "A = np.array([\n",
        "    [1, 0, 2, 9, 2],\n",
        "    [9, 2, 6, 5, 7],\n",
        "    [6, 4, 3, 4, 7]\n",
        "    \n",
        "])\n",
        "\n",
        "print(A.astype(float))\n",
        "\n",
        "print(np.diag(A))\n",
        "\n",
        "print(np.diag(np.diag(A)))"
      ],
      "metadata": {
        "id": "MBdVPhq38G69"
      },
      "execution_count": null,
      "outputs": []
    },
    {
      "cell_type": "markdown",
      "source": [
        "**4. Matriz diagonal**"
      ],
      "metadata": {
        "id": "-C91dYvw9qhv"
      }
    },
    {
      "cell_type": "code",
      "source": [
        "#Do not change this function's name, parameters or output format. It will be used in automatic grading.\n",
        "\n",
        "import numpy as np\n",
        "\n",
        "def main_diagonal_matrix(A):\n",
        "  D = np.diag(np.diag(A.astype(float)))\n",
        "  return D"
      ],
      "metadata": {
        "id": "EeseHDj88JCl"
      },
      "execution_count": null,
      "outputs": []
    }
  ]
}